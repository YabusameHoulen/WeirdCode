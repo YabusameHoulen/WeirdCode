{
 "cells": [
  {
   "cell_type": "code",
   "execution_count": 12,
   "metadata": {},
   "outputs": [],
   "source": [
    "# GBM\n",
    "from gbm.data import RSP, Cspec, TTE, GbmDetectorCollection, PHA  ### 数据类\n",
    "from gbm.binning.unbinned import bin_by_time  # bin_by_snr,bin_by_edges\n",
    "from gbm.plot import Lightcurve, Spectrum, ModelFit  ### 画图类\n",
    "from gbm.background import BackgroundFitter  ### 背景拟合类\n",
    "from gbm.background.binned import Polynomial\n",
    "from gbm.spectra.fitting import SpectralFitterPgstat  ### 能谱拟合类\n",
    "import gbm.spectra.functions as gbm_func\n",
    "\n",
    "# Here\n",
    "from Myfuncs.my_general_utils import *\n",
    "import pandas as pd\n",
    "from typing import Final\n",
    "import gc\n",
    "import matplotlib.pyplot as plt\n",
    "plt.switch_backend(\"Agg\")\n",
    "plt.rcParams[\"agg.path.chunksize\"] = 10000"
   ]
  },
  {
   "cell_type": "code",
   "execution_count": 23,
   "metadata": {},
   "outputs": [],
   "source": [
    "MYRSP_MATRIX: Final[str] = \"generated_rsp_files\"\n",
    "RAWDATA: Final[str] = \"Raw_Data\"\n",
    "SAVEPATH: Final[str] = \"GBMFIT_Generated_Final\"\n",
    "niteration = 100000\n",
    "erange_nai = (10.0, 900.0)  # keV\n",
    "erange_bgo = (300.0, 35000.0)\n",
    "\n",
    "\n",
    "class FitResult:\n",
    "    model_symbol: dict[str, list[str]] = {\n",
    "        \"Band\": [\"A\", \"Ep\", \"alpha\", \"Beta\"],\n",
    "        \"Comptonized\": [\"A\", \"Ec\", \"alpha\"],\n",
    "        \"Band+BlackBody\": [\"A\", \"Ep\", \"alpha\", \"Beta\", \"Ab\", \"kT\"],\n",
    "        \"Comptonized+BlackBody\": [\"A\", \"Ec\", \"alpha\", \"Ab\", \"kT\"],\n",
    "    }\n",
    "\n",
    "    def __init__(self, specfitter: SpectralFitterPgstat, model_name, cl: float = 0.683):\n",
    "        self.model_name: str = model_name\n",
    "        self.fit_success: bool = specfitter.success\n",
    "        self.message: str = specfitter.message\n",
    "        self.parameters: list[float] = specfitter.parameters\n",
    "        self.asyerrors: list[list[float]] = specfitter.asymmetric_errors(cl)\n",
    "        self.statistics: float = specfitter.statistic\n",
    "        self.dof: float = specfitter.dof\n",
    "\n",
    "    def __repr__(self):\n",
    "        indent = \" \" * 4\n",
    "        cls = self.__class__\n",
    "        cls_name = cls.__name__\n",
    "        res = [f\"{self.model_name} {cls_name}(\"]\n",
    "        res.append(f\"{indent}fit success: {self.fit_success}\")\n",
    "        res.append(f\"{indent}message: {self.message}\")\n",
    "        if self.model_name in cls.model_symbol.keys():\n",
    "            for symbol, val, asyerr in zip(\n",
    "                cls.model_symbol[self.model_name], self.parameters, self.asyerrors\n",
    "            ):\n",
    "                res.append(\n",
    "                    f\"{indent}{symbol.ljust(10)} {val:.4f} -{asyerr[0]:.4f} + {asyerr[1]:.4f}\"\n",
    "                )\n",
    "        res.append(f\"{indent}Pgstat: {self.statistics}\")\n",
    "        res.append(f\"{indent}dof: {self.dof}\")\n",
    "        res.append(\")\")\n",
    "        return \"\\n\".join(res)\n"
   ]
  },
  {
   "cell_type": "code",
   "execution_count": 14,
   "metadata": {},
   "outputs": [
    {
     "name": "stdout",
     "output_type": "stream",
     "text": [
      "perform the dets selection, filter the unchosen file\n",
      "the GRB files are compatible\n",
      "perform the dets selection, filter the unchosen file\n",
      "the GRB files are compatible\n",
      "\u001b[31mthe GRBfile bn140108721 does not have rsp2 files !!!\u001b[0m\n",
      "perform the dets selection, filter the unchosen file\n",
      "the GRB files are compatible\n",
      "perform the dets selection, filter the unchosen file\n",
      "the GRB files are compatible\n",
      "perform the dets selection, filter the unchosen file\n",
      "the GRB files are compatible\n",
      "perform the dets selection, filter the unchosen file\n",
      "the GRB files are compatible\n",
      "perform the dets selection, filter the unchosen file\n",
      "the GRB files are incompatible\n",
      "tte_files: 2\t cspec_files: 3\t rsp2_files: 3\n",
      "perform the dets selection, filter the unchosen file\n",
      "the GRB files are compatible\n",
      "perform the dets selection, filter the unchosen file\n",
      "the rsp2_files is missing\n"
     ]
    }
   ],
   "source": [
    "grb_names = [\n",
    "    \"bn100619015\",\n",
    "    \"bn121031949\",\n",
    "    \"bn140108721\",\n",
    "    \"bn151027166\",\n",
    "    \"bn170514180\",\n",
    "    \"bn171120556\",\n",
    "    \"bn180612785\",\n",
    "    \"bn181222279\",\n",
    "    \"bn190419414\",\n",
    "]\n",
    "\n",
    "normal_bursts = pd.read_csv(\"chosen_GRB_informaions.csv\")\n",
    "normal_bursts = (\n",
    "    normal_bursts[normal_bursts.name.isin(grb_names)]\n",
    "    .reset_index()\n",
    "    .drop(columns=[\"index\"])\n",
    ")\n",
    "grb_files = get_GRB_files(RAWDATA, grb_names)\n",
    "\n",
    "### bn140108721 没有rsp2文件，用rsp中的 RA DEC 来选择探头数据\n",
    "bn140108_rawdata = os.listdir(joinpath(RAWDATA, \"bn140108721\"))\n",
    "bn140108_rsps_name = sorted(list(filter(lambda x: \".rsp\" in x, bn140108_rawdata)))\n",
    "bn140108_rsps = [\n",
    "    joinpath(RAWDATA, \"bn140108721\", rsp_name) for rsp_name in bn140108_rsps_name\n",
    "]\n",
    "bn140108_dets_angles = get_dets_angles(grb_files[2].trigdat_file, bn140108_rsps[0], 60)\n",
    "grb_files[2].choose_by_dets(bn140108_dets_angles)\n",
    "\n",
    "\n",
    "### bn181222279 没有n5探头的tte文件\n",
    "grb_files[7].dets_selection = {\"b0\":-1, \"n4\":-1}"
   ]
  },
  {
   "cell_type": "code",
   "execution_count": 15,
   "metadata": {},
   "outputs": [
    {
     "name": "stdout",
     "output_type": "stream",
     "text": [
      "bn100619015 : ['b0', 'n2', 'n5']\n",
      "Choose background:  [[-25, -5], [30, 50], [160, 180]]\n",
      "src_range:  [0, 12]\n",
      "---  new folder  ---\n",
      "bn100619015 : ['b0', 'n2', 'n5']\n",
      "Choose background:  [[-25, -5], [30, 50], [160, 180]]\n",
      "src_range:  [77, 101]\n",
      "---  There is a folder with the same name!  ---\n"
     ]
    }
   ],
   "source": [
    "for grb_name, grb_file, grb_time, grb_bkg in zip(\n",
    "    normal_bursts.name,\n",
    "    grb_files,\n",
    "    normal_bursts.grb_chosen_times,\n",
    "    normal_bursts.background_interval,\n",
    "):\n",
    "\n",
    "    ### 对两个峰分别拟合\n",
    "    for pulse_time in eval(grb_time):\n",
    "        gc.collect()\n",
    "        ### use new pulse_time to select generated rsp files\n",
    "        ### change the grb_file.rsp2_files to generated rsp files\n",
    "        grb_path = joinpath(MYRSP_MATRIX, grb_name)\n",
    "        generated_rsp2 = os.listdir(grb_path)\n",
    "        chosen_rsp2s = sorted(\n",
    "            [pulse_rsp2 for pulse_rsp2 in generated_rsp2 if pulse_time in pulse_rsp2]\n",
    "        )\n",
    "\n",
    "        pulse_rsp2s = [joinpath(grb_path, pulse_rsp2) for pulse_rsp2 in chosen_rsp2s]\n",
    "        grb_file.rsp2_files = pulse_rsp2s\n",
    "\n",
    "        ### TTE ---> Binned Data\n",
    "        rsp_list = [RSP.open(rsp) for rsp in grb_file.rsp2_files]\n",
    "        tte_list = [TTE.open(tte) for tte in grb_file.tte_files]\n",
    "\n",
    "        data_size = min(len(rsp_list), len(tte_list))\n",
    "        ttes = GbmDetectorCollection.from_list(tte_list[:data_size])\n",
    "        phaiis = GbmDetectorCollection.from_list(\n",
    "            [tte.to_phaii(bin_by_time, 0.64, time_ref=0.0) for tte in ttes]\n",
    "        )\n",
    "        print(grb_name, \":\", phaiis.detector())\n",
    "\n",
    "        ### RSP\n",
    "        rsps = GbmDetectorCollection.from_list(rsp_list[:data_size])\n",
    "\n",
    "        ### 背景拟合\n",
    "        bkgd_range = list(map(decode_3ml_timestr, grb_bkg.split(\",\")))\n",
    "        print(\"Choose background: \", bkgd_range)\n",
    "        backfitters = [\n",
    "            BackgroundFitter.from_phaii(phaii, Polynomial, time_ranges=bkgd_range)\n",
    "            for phaii in phaiis\n",
    "        ]\n",
    "        backfitters = GbmDetectorCollection.from_list(backfitters, dets=ttes.detector())\n",
    "        backfitters.fit(order=1)\n",
    "\n",
    "        bkgds = backfitters.interpolate_bins(\n",
    "            phaiis.data()[0].tstart, phaiis.data()[0].tstop\n",
    "        )\n",
    "        bkgds = GbmDetectorCollection.from_list(bkgds, dets=ttes.detector())\n",
    "\n",
    "        ### 30keV ~ 40KeV 的channel mask\n",
    "        chan_masks = [(i.emin < 30) | (i.emax > 40) for i in phaiis.data()]\n",
    "        # chan_masks = [i.emin > -1 for i in phaiis.data()]\n",
    "\n",
    "        ########### 返回之前的src_range\n",
    "        src_range = decode_3ml_timestr(pulse_time)\n",
    "        print(\"src_range: \", src_range)\n",
    "        # 光变\n",
    "        data_lcs = phaiis.to_lightcurve(\n",
    "            nai_kwargs={\"energy_range\": erange_nai},\n",
    "            bgo_kwargs={\"energy_range\": erange_bgo},\n",
    "        )\n",
    "        # the energy-integrated background\n",
    "        bkgd_lcs = bkgds.integrate_energy(nai_args=erange_nai, bgo_args=erange_bgo)\n",
    "        # 源时间选择\n",
    "        src_lcs = phaiis.to_lightcurve(\n",
    "            time_range=src_range,\n",
    "            nai_kwargs={\"energy_range\": erange_nai},\n",
    "            bgo_kwargs={\"energy_range\": erange_bgo},\n",
    "        )\n",
    "\n",
    "        # 计数谱\n",
    "        data_specs = phaiis.to_spectrum(time_range=src_range)\n",
    "        # the time-integrated background\n",
    "        bkgd_specs = bkgds.integrate_time(*src_range)\n",
    "        # 能量选择\n",
    "        src_specs = phaiis.to_spectrum(\n",
    "            time_range=src_range,\n",
    "            nai_kwargs={\"energy_range\": erange_nai},\n",
    "            bgo_kwargs={\"energy_range\": erange_bgo},\n",
    "        )\n",
    "\n",
    "        ### 检查图像\n",
    "        mkdir(f\"{SAVEPATH}/{grb_name}\")\n",
    "        lcplots = [\n",
    "            Lightcurve(data=data_lc, background=bkgd_lc)\n",
    "            for data_lc, bkgd_lc in zip(data_lcs, bkgd_lcs)\n",
    "        ]\n",
    "        for det, src_lc, lcplot in zip(bkgds._dets, src_lcs, lcplots):\n",
    "            lcplot.add_selection(src_lc)\n",
    "            lcplot.fig.savefig(f\"{SAVEPATH}/{grb_name}/{det}_{src_range}_lc.png\")\n",
    "\n",
    "        specplots = [\n",
    "            Spectrum(data=data_spec, background=bkgd_spec)\n",
    "            for data_spec, bkgd_spec in zip(data_specs, bkgd_specs)\n",
    "        ]\n",
    "        for det, src_spec, specplot in zip(bkgds._dets, src_specs, specplots):\n",
    "            specplot.add_selection(src_spec)\n",
    "            specplot.fig.savefig(f\"{SAVEPATH}/{grb_name}/{det}_{src_range}_spec.png\")\n",
    "\n",
    "        ### 能谱拟合\n",
    "        phas = phaiis.to_pha(\n",
    "            time_ranges=src_range,\n",
    "            nai_kwargs={\"energy_range\": erange_nai},\n",
    "            bgo_kwargs={\"energy_range\": erange_bgo},\n",
    "        )\n",
    "\n",
    "        # interpolate response files to get DRMs at center of the source window\n",
    "        # rsps_interp = [rsp.interpolate(pha.tcent) for rsp, pha in zip(rsps, phas)]\n",
    "\n",
    "        # print([chan_mask for chan_mask in chan_masks])\n",
    "        steds = [(pha.valid_channels[0], pha.valid_channels[-1]) for pha in phas]\n",
    "        for chan_mask, sted in zip(chan_masks, steds):\n",
    "            chan_mask[: sted[0]] = False\n",
    "            chan_mask[sted[1] + 1 :] = False\n",
    "    break"
   ]
  },
  {
   "cell_type": "code",
   "execution_count": 24,
   "metadata": {},
   "outputs": [
    {
     "name": "stderr",
     "output_type": "stream",
     "text": [
      "/home/tsubakura/miniconda3/envs/fermiGBM/lib/python3.9/site-packages/scipy/optimize/_slsqp_py.py:437: RuntimeWarning: Values in x were outside bounds during a minimize step, clipping to bounds\n",
      "  fx = wrapped_fun(x)\n"
     ]
    },
    {
     "data": {
      "text/plain": [
       "Band FitResult(\n",
       "    fit success: True\n",
       "    message: Optimization terminated successfully\n",
       "    A          0.0075 -0.0005 + 0.0005\n",
       "    Ep         92.4562 -11.7945 + 13.6745\n",
       "    alpha      -1.3718 -0.0410 + 0.0434\n",
       "    Beta       -9.2112 -0.7888 + 6.7477\n",
       "    Pgstat: 264.793184875136\n",
       "    dof: 346\n",
       ")"
      ]
     },
     "execution_count": 24,
     "metadata": {},
     "output_type": "execute_result"
    }
   ],
   "source": [
    "niteration = 100000\n",
    "model = gbm_func.Band()\n",
    "specfitter = SpectralFitterPgstat(\n",
    "    phas,\n",
    "    bkgds.to_list(),\n",
    "    rsps.to_list(),\n",
    "    method=\"SLSQP\",\n",
    "    channel_masks=chan_masks,\n",
    ")\n",
    "specfitter.fit(model, options={\"maxfun\": niteration})\n",
    "FitResult(specfitter,model.name)"
   ]
  },
  {
   "cell_type": "code",
   "execution_count": 17,
   "metadata": {},
   "outputs": [
    {
     "data": {
      "text/plain": [
       "(-3.8425717415918115, 3.6688152520231703)"
      ]
     },
     "execution_count": 17,
     "metadata": {},
     "output_type": "execute_result"
    }
   ],
   "source": [
    "from gbm.plot.gbmplot import ModelData,Histo\n",
    "import numpy as np\n",
    "modelplot_1 = ModelFit(fitter=specfitter)\n",
    "model_counts = modelplot_1._fitter.model_count_spectrum()\n",
    "energy, chanwidths, data_counts, data_counts_err, ulmasks = \\\n",
    "                                        modelplot_1._fitter.data_count_spectrum()\n",
    "modelplot_1._count_models._name_dict.pop('all')\n",
    "modelplot_1._count_data._name_dict.pop('all')\n",
    "for i in range(modelplot_1._fitter.num_sets):\n",
    "    det = ttes._dets[i]\n",
    "    modelplot_1._count_models.insert(det, Histo(model_counts[i], modelplot_1._ax, \n",
    "                                edges_to_zero=False,  color=modelplot_1.colors[i], \n",
    "                                alpha=1.0, label=det))\n",
    "    modelplot_1._count_data.insert(det, ModelData(energy[i], data_counts[i], \n",
    "                                            chanwidths[i], data_counts_err[i],\n",
    "                                            modelplot_1._ax, ulmask=ulmasks[i], \n",
    "                                            color=modelplot_1.colors[i], \n",
    "                                            alpha=0.7, linewidth=0.9))\n",
    "\n",
    "modelplot_1._ax.set_ylabel(r'Rate [count s$^{-1}$ keV$^{-1}$]')\n",
    "modelplot_1._ax.set_ylim(1e-7, 100)\n",
    "modelplot_1._set_view()\n",
    "modelplot_1._ax.legend()\n",
    "\n",
    "# if we don't already have residuals axis\n",
    "if len(modelplot_1._figure.axes) == 1:\n",
    "    modelplot_1._figure.add_axes(modelplot_1._resid_ax)\n",
    "\n",
    "# get the residuals\n",
    "energy, chanwidths, resid, resid_err = modelplot_1._fitter.residuals(sigma=True)\n",
    "\n",
    "# plot for each detector/dataset\n",
    "ymin, ymax = ([], [])\n",
    "for i in range(modelplot_1._fitter.num_sets):\n",
    "    det = ttes._dets[i]\n",
    "    modelplot_1._resids.insert(det, ModelData(energy[i], resid[i], chanwidths[i],\n",
    "                        resid_err[i], modelplot_1._resid_ax, color=modelplot_1.colors[i],\n",
    "                        alpha=0.7, linewidth=0.9))\n",
    "    ymin.append((resid[i]-resid_err[i]).min())\n",
    "    ymax.append((resid[i]+resid_err[i]).max())\n",
    "# the zero line\n",
    "modelplot_1._resid_ax.axhline(0.0, color='black')\n",
    "modelplot_1._resid_ax.set_xlabel('Energy [kev]', fontsize=10)\n",
    "modelplot_1._resid_ax.set_ylabel('Residuals [sigma]', fontsize=10)\n",
    "\n",
    "\n",
    "# we have to set the y-axis range manually, because the y-axis\n",
    "# autoscale is broken (known issue) in matplotlib for this situation\n",
    "ymin = np.min(ymin)\n",
    "ymax = np.max(ymax)\n",
    "modelplot_1._resid_ax.set_ylim((1.0-np.sign(ymin)*0.1)*ymin, \n",
    "                        (1.0+np.sign(ymax)*0.1)*ymax)"
   ]
  },
  {
   "cell_type": "code",
   "execution_count": 18,
   "metadata": {},
   "outputs": [
    {
     "name": "stderr",
     "output_type": "stream",
     "text": [
      "/home/tsubakura/miniconda3/envs/fermiGBM/lib/python3.9/site-packages/gbm/spectra/fitting.py:370: UserWarning: Parameter exists at its lower bound\n",
      "  warnings.warn(\"Parameter exists at its lower bound\")\n"
     ]
    }
   ],
   "source": [
    "with open(f\"GBM_fit_newrsp.txt\", \"a\") as f:\n",
    "    f.write(str(FitResult(specfitter,model.name)))\n",
    "    f.write('\\n\\n')"
   ]
  },
  {
   "cell_type": "code",
   "execution_count": 19,
   "metadata": {},
   "outputs": [
    {
     "name": "stderr",
     "output_type": "stream",
     "text": [
      "/home/tsubakura/miniconda3/envs/fermiGBM/lib/python3.9/site-packages/gbm/spectra/fitting.py:600: RuntimeWarning: covariance is not symmetric positive-semidefinite.\n",
      "  samples = multivariate_normal(self.parameters, self.covariance,\n"
     ]
    },
    {
     "data": {
      "image/png": "[encoded data removed]",
      "text/plain": [
       "<Figure size 570x670 with 1 Axes>"
      ]
     },
     "execution_count": 19,
     "metadata": {},
     "output_type": "execute_result"
    }
   ],
   "source": [
    "%matplotlib inline\n",
    "modelplot_1.energy_spectrum(num_samples=200)\n",
    "modelplot_1.ax.set_ylim(1e-7, 10)\n",
    "modelplot_1.fig"
   ]
  },
  {
   "cell_type": "code",
   "execution_count": 20,
   "metadata": {},
   "outputs": [
    {
     "name": "stdout",
     "output_type": "stream",
     "text": [
      "CSV file 'fit_results.csv' has been created.\n"
     ]
    }
   ],
   "source": [
    "\n",
    "\n",
    "\n",
    "# Example usage\n",
    "file_path = \"[77, 101]_fit.txt\"\n",
    "output_path = \"fit_results.csv\"\n",
    "data = parse_fit_results(file_path)\n",
    "df = pd.DataFrame(data)\n",
    "df.to_csv(output_path, index=False)\n",
    "\n",
    "print(f\"CSV file '{output_path}' has been created.\")\n"
   ]
  },
  {
   "cell_type": "code",
   "execution_count": 25,
   "metadata": {},
   "outputs": [
    {
     "data": {
      "text/plain": [
       "[{'Model': 'Band',\n",
       "  'Fit Success': 'True',\n",
       "  'Optimization': 'terminated successfully',\n",
       "  'A': '0.0075 -0.0005 + 0.0005',\n",
       "  'Ep': '92.4562 -11.7945 + 13.6745',\n",
       "  'alpha': '-1.3718 -0.0410 + 0.0434',\n",
       "  'Beta': '-9.2112 -0.7888 + 6.7477',\n",
       "  'Pgstat:': '264.793184875136',\n",
       "  'dof:': '346'},\n",
       " {'Model': 'Band+BlackBody',\n",
       "  'Fit Success': 'False',\n",
       "  'Inequality': 'constraints incompatible',\n",
       "  'A': '0.0100 -0.0100 + 0.0000',\n",
       "  'Ep': '500.0000 -499.9900 + 0.3170',\n",
       "  'alpha': '-0.5000 -0.0020 + 0.8344',\n",
       "  'Beta': '-2.5000 -7.5000 + 0.0198',\n",
       "  'Ab': '0.0100 -0.0000 + 0.0000',\n",
       "  'kT': '30.0000 -30.0000 + 0.0000',\n",
       "  'Pgstat:': '2536328.524576742',\n",
       "  'dof:': '344'},\n",
       " {'Model': 'Comptonized',\n",
       "  'Fit Success': 'True',\n",
       "  'Optimization': 'terminated successfully',\n",
       "  'A': '0.0075 -0.0004 + 0.0004',\n",
       "  'Ec': '92.6250 -10.3330 + 11.7525',\n",
       "  'alpha': '-1.3728 -0.0358 + 0.0372',\n",
       "  'Pgstat:': '264.7930251889712',\n",
       "  'dof:': '347'},\n",
       " {'Model': 'Comptonized+BlackBody',\n",
       "  'Fit Success': 'False',\n",
       "  'Inequality': 'constraints incompatible',\n",
       "  'A': '0.0100 -0.0100 + 0.0000',\n",
       "  'Ec': '300.0000 -299.9900 + 0.1800',\n",
       "  'alpha': '-0.5000 -0.0008 + 20.0104',\n",
       "  'Ab': '0.0100 -0.0000 + 0.0000',\n",
       "  'kT': '30.0000 -30.0000 + 0.0000',\n",
       "  'Pgstat:': '2533574.231768019',\n",
       "  'dof:': '345'}]"
      ]
     },
     "execution_count": 25,
     "metadata": {},
     "output_type": "execute_result"
    }
   ],
   "source": [
    "data"
   ]
  }
 ],
 "metadata": {
  "kernelspec": {
   "display_name": "fermiGBM",
   "language": "python",
   "name": "python3"
  },
  "language_info": {
   "codemirror_mode": {
    "name": "ipython",
    "version": 3
   },
   "file_extension": ".py",
   "mimetype": "text/x-python",
   "name": "python",
   "nbconvert_exporter": "python",
   "pygments_lexer": "ipython3",
   "version": "3.9.20"
  }
 },
 "nbformat": 4,
 "nbformat_minor": 2
}
